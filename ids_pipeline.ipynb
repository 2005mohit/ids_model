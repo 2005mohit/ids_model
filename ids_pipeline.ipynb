{
  "nbformat": 4,
  "nbformat_minor": 0,
  "metadata": {
    "colab": {
      "provenance": []
    },
    "kernelspec": {
      "name": "python3",
      "display_name": "Python 3"
    },
    "language_info": {
      "name": "python"
    }
  },
  "cells": [
    {
      "cell_type": "code",
      "source": [
        "import joblib\n",
        "\n",
        "model1 = joblib.load(\"/content/drive/MyDrive/Data centre/IDS_WORKSPACE/model/binary_model.pkl\")\n",
        "scaler1 = joblib.load(\"/content/drive/MyDrive/Data centre/IDS_WORKSPACE/model/scaler_binary.pkl\")\n",
        "imputer1 = joblib.load(\"/content/drive/MyDrive/Data centre/IDS_WORKSPACE/model/imputer_binary.pkl\")\n",
        "\n",
        "model2 = joblib.load(\"/content/drive/MyDrive/Data centre/IDS_WORKSPACE/model/attack_type_model.pkl\")\n",
        "scaler2 = joblib.load(\"/content/drive/MyDrive/Data centre/IDS_WORKSPACE/model/scaler_attack.pkl\")\n",
        "imputer2 = joblib.load(\"/content/drive/MyDrive/Data centre/IDS_WORKSPACE/model/imputer_attack.pkl\")\n",
        "le_attack = joblib.load(\"/content/drive/MyDrive/Data centre/IDS_WORKSPACE/model/attack_label_encoder.pkl\")\n",
        "feature_names = joblib.load(\"/content/drive/MyDrive/Data centre/IDS_WORKSPACE/model/features_names.pkl\")\n"
      ],
      "metadata": {
        "id": "mTJUxYGplZ_r"
      },
      "execution_count": null,
      "outputs": []
    },
    {
      "cell_type": "code",
      "execution_count": null,
      "metadata": {
        "id": "Omrl-i5m-Vub"
      },
      "outputs": [],
      "source": [
        "import numpy as np\n",
        "import pandas as pd\n",
        "\n",
        "class IDSPipeline:\n",
        "    def __init__(self, model1, model2, imputer1, scaler1, imputer2, scaler2, le_attack, feature_names):\n",
        "        self.model1 = model1\n",
        "        self.model2 = model2\n",
        "        self.imputer1 = imputer1\n",
        "        self.scaler1 = scaler1\n",
        "        self.imputer2 = imputer2\n",
        "        self.scaler2 = scaler2\n",
        "        self.le_attack = le_attack\n",
        "        self.feature_names = feature_names\n",
        "\n",
        "    def preprocess(self, features, imputer, scaler):\n",
        "        # Convert input to 2D array\n",
        "        features = np.array(features).reshape(1, -1)\n",
        "        # Replace inf/nan\n",
        "        features = np.nan_to_num(features, posinf=np.nan, neginf=np.nan)\n",
        "        # Impute missing\n",
        "        features = imputer.transform(features)\n",
        "        # Scale\n",
        "        features = scaler.transform(features)\n",
        "        # Back to DataFrame (keep feature order)\n",
        "        return pd.DataFrame(features, columns=self.feature_names)\n",
        "\n",
        "    def predict(self, features):\n",
        "        # Binary classification\n",
        "        X_bin = self.preprocess(features, self.imputer1, self.scaler1)\n",
        "        binary_pred = self.model1.predict(X_bin)[0]\n",
        "\n",
        "        if binary_pred == 0:\n",
        "            return \"BENIGN\"\n",
        "        else:\n",
        "            # Attack classification\n",
        "            X_attack = self.preprocess(features, self.imputer2, self.scaler2)\n",
        "            attack_pred = self.model2.predict(X_attack)[0]\n",
        "            return self.le_attack.inverse_transform([attack_pred])[0]"
      ]
    },
    {
      "cell_type": "code",
      "source": [
        "import joblib\n",
        "\n",
        "pipeline_dict = {\n",
        "    \"model1\": pipeline.model1,\n",
        "    \"scaler1\": pipeline.scaler1,\n",
        "    \"imputer1\": pipeline.imputer1,\n",
        "    \"model2\": pipeline.model2,\n",
        "    \"scaler2\": pipeline.scaler2,\n",
        "    \"imputer2\": pipeline.imputer2,\n",
        "    \"le_attack\": pipeline.le_attack,\n",
        "    \"feature_names\": pipeline.feature_names\n",
        "}\n",
        "\n",
        "joblib.dump(pipeline_dict, \"/content/drive/MyDrive/Data centre/IDS_WORKSPACE/model/IDS_Pipeline_joblib.pkl\")\n",
        "print(\"Pipeline converted to joblib successfully!\")\n"
      ],
      "metadata": {
        "colab": {
          "base_uri": "https://localhost:8080/"
        },
        "id": "wxTWXn318qQj",
        "outputId": "6ce8ab18-6dbe-4403-aa88-8ccd63d39b4d"
      },
      "execution_count": null,
      "outputs": [
        {
          "output_type": "stream",
          "name": "stdout",
          "text": [
            "Pipeline converted to joblib successfully!\n"
          ]
        }
      ]
    }
  ]
}